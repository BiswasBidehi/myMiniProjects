{
 "cells": [
  {
   "cell_type": "code",
   "execution_count": 1,
   "id": "662eb9ad",
   "metadata": {},
   "outputs": [],
   "source": [
    "elements = {\"hydrogen\": 1, \"helium\": 2, \"carbon\": 6}"
   ]
  },
  {
   "cell_type": "code",
   "execution_count": 3,
   "id": "6dced4e4",
   "metadata": {},
   "outputs": [
    {
     "name": "stdout",
     "output_type": "stream",
     "text": [
      "True\n"
     ]
    }
   ],
   "source": [
    "print('hydrogen' in elements)        "
   ]
  },
  {
   "cell_type": "code",
   "execution_count": 4,
   "id": "7404e269",
   "metadata": {},
   "outputs": [
    {
     "name": "stdout",
     "output_type": "stream",
     "text": [
      "2\n"
     ]
    }
   ],
   "source": [
    "print(elements['helium'])"
   ]
  },
  {
   "cell_type": "code",
   "execution_count": 7,
   "id": "15cd4e05",
   "metadata": {},
   "outputs": [
    {
     "name": "stdout",
     "output_type": "stream",
     "text": [
      "{'hydrogen': 1, 'helium': 2, 'carbon': 6, 'lithium': 3}\n"
     ]
    }
   ],
   "source": [
    "elements['lithium'] = 3\n",
    "print(elements)"
   ]
  },
  {
   "cell_type": "code",
   "execution_count": 8,
   "id": "1489c068",
   "metadata": {},
   "outputs": [
    {
     "name": "stdout",
     "output_type": "stream",
     "text": [
      "True\n"
     ]
    }
   ],
   "source": [
    "print('carbon' in elements)"
   ]
  },
  {
   "cell_type": "code",
   "execution_count": 11,
   "id": "2178c44b",
   "metadata": {},
   "outputs": [
    {
     "name": "stdout",
     "output_type": "stream",
     "text": [
      "None\n"
     ]
    }
   ],
   "source": [
    "print(elements.get('aluminium'))"
   ]
  },
  {
   "cell_type": "code",
   "execution_count": 16,
   "id": "21c698ef",
   "metadata": {},
   "outputs": [
    {
     "name": "stdout",
     "output_type": "stream",
     "text": [
      "False\n",
      "True\n"
     ]
    }
   ],
   "source": [
    "m = elements.get('alluminium')\n",
    "print(m is not None)\n",
    "print(m is None)"
   ]
  },
  {
   "cell_type": "code",
   "execution_count": 22,
   "id": "13b6ffc3",
   "metadata": {},
   "outputs": [
    {
     "name": "stdout",
     "output_type": "stream",
     "text": [
      "6\n",
      "Not here\n"
     ]
    }
   ],
   "source": [
    "print(elements.get('carbon','nothing'))\n",
    "print(elements.get('Alluminium','Not here'))"
   ]
  },
  {
   "cell_type": "code",
   "execution_count": 23,
   "id": "f15e710c",
   "metadata": {},
   "outputs": [],
   "source": [
    "a = [1, 2, 3]\n",
    "b = a\n",
    "c = [1, 2, 3]\n"
   ]
  },
  {
   "cell_type": "code",
   "execution_count": 27,
   "id": "ec0b3918",
   "metadata": {},
   "outputs": [
    {
     "name": "stdout",
     "output_type": "stream",
     "text": [
      "True\n",
      "True\n",
      "True\n",
      "False\n"
     ]
    }
   ],
   "source": [
    "print(a == b)\n",
    "print(a is b)\n",
    "print(a == c)\n",
    "print( a is c)"
   ]
  },
  {
   "cell_type": "code",
   "execution_count": 30,
   "id": "56845d3c",
   "metadata": {},
   "outputs": [],
   "source": [
    "animals = {'dogs': [20, 10, 15, 8, 32, 15], 'cats': [3,4,2,8,2,4], 'rabbits': [2, 3, 3], 'fish': [0.3, 0.5, 0.8, 0.3, 1]}"
   ]
  },
  {
   "cell_type": "code",
   "execution_count": 35,
   "id": "766e368e",
   "metadata": {},
   "outputs": [
    {
     "name": "stdout",
     "output_type": "stream",
     "text": [
      "[20, 10, 15, 8, 32, 15]\n",
      "8\n"
     ]
    }
   ],
   "source": [
    "print(animals.get('dogs'))\n",
    "print(animals['dogs'][3])\n",
    "#print(animals[3])"
   ]
  },
  {
   "cell_type": "code",
   "execution_count": 37,
   "id": "cd436aa6",
   "metadata": {},
   "outputs": [],
   "source": [
    "verse_dict =  {'if': 3, 'you': 6, 'can': 3, 'keep': 1, 'your': 1, 'head': 1, 'when': 2, 'all': 2, 'about': 2, 'are': 1, 'losing': 1, 'theirs': 1, 'and': 3, 'blaming': 1, 'it': 1, 'on': 1, 'trust': 1, 'yourself': 1, 'men': 1, 'doubt': 1, 'but': 1, 'make': 1, 'allowance': 1, 'for': 1, 'their': 1, 'doubting': 1, 'too': 3, 'wait': 1, 'not': 1, 'be': 1, 'tired': 1, 'by': 1, 'waiting': 1, 'or': 2, 'being': 2, 'lied': 1, 'don\\'t': 3, 'deal': 1, 'in': 1, 'lies': 1, 'hated': 1, 'give': 1, 'way': 1, 'to': 1, 'hating': 1, 'yet': 1, 'look': 1, 'good': 1, 'nor': 1, 'talk': 1, 'wise': 1}\n",
    "\n"
   ]
  },
  {
   "cell_type": "code",
   "execution_count": 41,
   "id": "194ca0cf",
   "metadata": {},
   "outputs": [
    {
     "name": "stdout",
     "output_type": "stream",
     "text": [
      "dict_keys(['if', 'you', 'can', 'keep', 'your', 'head', 'when', 'all', 'about', 'are', 'losing', 'theirs', 'and', 'blaming', 'it', 'on', 'trust', 'yourself', 'men', 'doubt', 'but', 'make', 'allowance', 'for', 'their', 'doubting', 'too', 'wait', 'not', 'be', 'tired', 'by', 'waiting', 'or', 'being', 'lied', \"don't\", 'deal', 'in', 'lies', 'hated', 'give', 'way', 'to', 'hating', 'yet', 'look', 'good', 'nor', 'talk', 'wise'])\n"
     ]
    }
   ],
   "source": [
    "num_keys = verse_dict.keys()\n",
    "print(num_keys)"
   ]
  }
 ],
 "metadata": {
  "kernelspec": {
   "display_name": "Python 3 (ipykernel)",
   "language": "python",
   "name": "python3"
  },
  "language_info": {
   "codemirror_mode": {
    "name": "ipython",
    "version": 3
   },
   "file_extension": ".py",
   "mimetype": "text/x-python",
   "name": "python",
   "nbconvert_exporter": "python",
   "pygments_lexer": "ipython3",
   "version": "3.8.11"
  }
 },
 "nbformat": 4,
 "nbformat_minor": 5
}
