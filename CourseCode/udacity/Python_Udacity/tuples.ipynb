{
 "cells": [
  {
   "cell_type": "code",
   "execution_count": 16,
   "id": "d29804cb",
   "metadata": {},
   "outputs": [],
   "source": [
    "AngkorWat = (32.34342,23.5345)"
   ]
  },
  {
   "cell_type": "code",
   "execution_count": 17,
   "id": "99b3d1be",
   "metadata": {},
   "outputs": [
    {
     "name": "stdout",
     "output_type": "stream",
     "text": [
      "<class 'tuple'>\n"
     ]
    }
   ],
   "source": [
    "print(type(AngkorWat))"
   ]
  },
  {
   "cell_type": "code",
   "execution_count": 18,
   "id": "5ceed891",
   "metadata": {},
   "outputs": [
    {
     "name": "stdout",
     "output_type": "stream",
     "text": [
      "AngkorWat is at latitude: 32.34342\n",
      "AngkorWat is at longitude: 23.5345\n"
     ]
    }
   ],
   "source": [
    "print('AngkorWat is at latitude: {}'.format(AngkorWat[0]))\n",
    "print('AngkorWat is at longitude: {}'.format(AngkorWat[1]))"
   ]
  },
  {
   "cell_type": "code",
   "execution_count": 30,
   "id": "728013bf",
   "metadata": {},
   "outputs": [],
   "source": [
    "dimentions = 52, 40, 100\n",
    "length, width, height = dimentions"
   ]
  },
  {
   "cell_type": "code",
   "execution_count": 33,
   "id": "b3a7ad66",
   "metadata": {},
   "outputs": [
    {
     "name": "stdout",
     "output_type": "stream",
     "text": [
      "The dimensions are 52 x 40 x 100\n"
     ]
    }
   ],
   "source": [
    "print(\"The dimensions are {} x {} x {}\".format(length, width, height))"
   ]
  },
  {
   "cell_type": "code",
   "execution_count": 34,
   "id": "e2573d53",
   "metadata": {},
   "outputs": [
    {
     "name": "stdout",
     "output_type": "stream",
     "text": [
      "True\n",
      "2\n"
     ]
    }
   ],
   "source": [
    "tuple_a = 1, 2\n",
    "tuple_b = (1, 2)\n",
    "print(tuple_a == tuple_b)\n",
    "print(tuple_a[1])"
   ]
  },
  {
   "cell_type": "code",
   "execution_count": 36,
   "id": "e8df03d8",
   "metadata": {},
   "outputs": [],
   "source": [
    "numbers = [1, 2, 6, 3, 1, 1, 6]"
   ]
  },
  {
   "cell_type": "code",
   "execution_count": 40,
   "id": "faea8154",
   "metadata": {},
   "outputs": [
    {
     "name": "stdout",
     "output_type": "stream",
     "text": [
      "{1, 2, 3, 6}\n",
      "4\n"
     ]
    }
   ],
   "source": [
    "unique_num = set(numbers)\n",
    "print(unique_num)\n",
    "print(len(unique_num))"
   ]
  },
  {
   "cell_type": "code",
   "execution_count": 54,
   "id": "9437283c",
   "metadata": {},
   "outputs": [],
   "source": [
    "fruit = {\"apple\", \"banana\", \"orange\", \"grapefruit\"}"
   ]
  },
  {
   "cell_type": "code",
   "execution_count": 55,
   "id": "ea7f8e18",
   "metadata": {},
   "outputs": [
    {
     "name": "stdout",
     "output_type": "stream",
     "text": [
      "False\n",
      "{'grapefruit', 'apple', 'orange', 'watermelon', 'banana'}\n",
      "grapefruit\n"
     ]
    }
   ],
   "source": [
    "print('watermelon' in fruit)\n",
    "fruit.add('watermelon')\n",
    "print(fruit)\n",
    "print(fruit.pop())"
   ]
  },
  {
   "cell_type": "code",
   "execution_count": 57,
   "id": "e889b48b",
   "metadata": {},
   "outputs": [],
   "source": [
    "a = [1, 2, 2, 3, 3, 3, 4, 4, 4, 4]"
   ]
  },
  {
   "cell_type": "code",
   "execution_count": 58,
   "id": "5acd06e1",
   "metadata": {},
   "outputs": [
    {
     "name": "stdout",
     "output_type": "stream",
     "text": [
      "6\n"
     ]
    }
   ],
   "source": [
    "b = set(a)\n",
    "print(len(a) - len(b))"
   ]
  },
  {
   "cell_type": "code",
   "execution_count": null,
   "id": "cf03530f",
   "metadata": {},
   "outputs": [],
   "source": []
  }
 ],
 "metadata": {
  "kernelspec": {
   "display_name": "Python 3 (ipykernel)",
   "language": "python",
   "name": "python3"
  },
  "language_info": {
   "codemirror_mode": {
    "name": "ipython",
    "version": 3
   },
   "file_extension": ".py",
   "mimetype": "text/x-python",
   "name": "python",
   "nbconvert_exporter": "python",
   "pygments_lexer": "ipython3",
   "version": "3.8.11"
  }
 },
 "nbformat": 4,
 "nbformat_minor": 5
}
