{
 "cells": [
  {
   "cell_type": "code",
   "execution_count": 10,
   "id": "862ba04c",
   "metadata": {},
   "outputs": [],
   "source": [
    "names = ['Carol','Albert','Ben','Donna']"
   ]
  },
  {
   "cell_type": "code",
   "execution_count": 11,
   "id": "5e8699cf",
   "metadata": {},
   "outputs": [
    {
     "name": "stdout",
     "output_type": "stream",
     "text": [
      "Albert&Ben&Carol&Donna\n"
     ]
    }
   ],
   "source": [
    "print(\"&\".join(sorted(names)))"
   ]
  },
  {
   "cell_type": "code",
   "execution_count": 12,
   "id": "4f246b96",
   "metadata": {},
   "outputs": [
    {
     "name": "stdout",
     "output_type": "stream",
     "text": [
      "['Albert', 'Ben', 'Carol', 'Donna']\n"
     ]
    }
   ],
   "source": [
    "print(sorted(names))"
   ]
  }
 ],
 "metadata": {
  "kernelspec": {
   "display_name": "Python 3 (ipykernel)",
   "language": "python",
   "name": "python3"
  },
  "language_info": {
   "codemirror_mode": {
    "name": "ipython",
    "version": 3
   },
   "file_extension": ".py",
   "mimetype": "text/x-python",
   "name": "python",
   "nbconvert_exporter": "python",
   "pygments_lexer": "ipython3",
   "version": "3.8.11"
  }
 },
 "nbformat": 4,
 "nbformat_minor": 5
}
