{
 "cells": [
  {
   "cell_type": "code",
   "execution_count": 16,
   "id": "9df4d356",
   "metadata": {},
   "outputs": [],
   "source": [
    "AngkorWat = (32.34342,23.5345)"
   ]
  },
  {
   "cell_type": "code",
   "execution_count": 17,
   "id": "0ee06a30",
   "metadata": {},
   "outputs": [
    {
     "name": "stdout",
     "output_type": "stream",
     "text": [
      "<class 'tuple'>\n"
     ]
    }
   ],
   "source": [
    "print(type(AngkorWat))"
   ]
  },
  {
   "cell_type": "code",
   "execution_count": 18,
   "id": "5ceed891",
   "metadata": {},
   "outputs": [
    {
     "name": "stdout",
     "output_type": "stream",
     "text": [
      "AngkorWat is at latitude: 32.34342\n",
      "AngkorWat is at longitude: 23.5345\n"
     ]
    }
   ],
   "source": [
    "print('AngkorWat is at latitude: {}'.format(AngkorWat[0]))\n",
    "print('AngkorWat is at longitude: {}'.format(AngkorWat[1]))"
   ]
  },
  {
   "cell_type": "code",
   "execution_count": 23,
   "id": "7ea6ffd6",
   "metadata": {
    "collapsed": true
   },
   "outputs": [],
   "source": [
    "dimentions = 52, 40, 100"
   ]
  },
  {
   "cell_type": "code",
   "execution_count": 28,
   "id": "559f9d03",
   "metadata": {
    "collapsed": true
   },
   "outputs": [],
   "source": [
    "length, width, height = dimentions "
   ]
  }
 ],
 "metadata": {
  "kernelspec": {
   "display_name": "Python 3 (ipykernel)",
   "language": "python",
   "name": "python3"
  },
  "language_info": {
   "codemirror_mode": {
    "name": "ipython",
    "version": 3
   },
   "file_extension": ".py",
   "mimetype": "text/x-python",
   "name": "python",
   "nbconvert_exporter": "python",
   "pygments_lexer": "ipython3",
   "version": "3.8.11"
  }
 },
 "nbformat": 4,
 "nbformat_minor": 5
}
