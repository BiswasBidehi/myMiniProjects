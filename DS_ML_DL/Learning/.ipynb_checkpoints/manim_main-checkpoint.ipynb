{
 "cells": [
  {
   "cell_type": "code",
   "execution_count": 4,
   "id": "86d78534",
   "metadata": {},
   "outputs": [],
   "source": [
    "from manim import *"
   ]
  },
  {
   "cell_type": "code",
   "execution_count": 5,
   "id": "aab61625",
   "metadata": {},
   "outputs": [],
   "source": [
    "%%manim -ql -v WARNING SquareToCircle\n",
    "\n",
    "class SquareToCircle(Scene):\n",
    "    def construct(self):\n",
    "        square = Square()\n",
    "        circle = Circle()\n",
    "        circle.set_fill(PINK, opacity=0.5)\n",
    "        self.play(Create(square))\n",
    "        self.play(Transform(square, circle))\n",
    "        self.wait()\n",
    "        circle.set_fill(PINK, opacity=0.5)  # set the color and transparency\n",
    "        self.play(Create(circle))\n",
    "        circle.set_fill(PINK, opacity=0.5)\n",
    "        self.play(Create(square))\n",
    "        self.wait()\n",
    "        circle.set_fill(PINK, opacity=0.5)  # set the color and transparency\n",
    "        self.play(Create(circle))\n",
    "        \n",
    "#         self.play(circle.animate.stretch(4, dim=0))  \n",
    "#         self.wait()\n",
    "        \n",
    "        # Write equations\n",
    "        equation = MathTex(\"2x^2-5x+2\", \"=\", \"(x-2)(2x-1)\")\n",
    "\n",
    "        # Create animation\n",
    "        self.play(Write(equation))\n",
    "\n",
    "        # Add moving frames\n",
    "        framebox1 = SurroundingRectangle(equation[0], buff=.1)\n",
    "        framebox2 = SurroundingRectangle(equation[2], buff=.1)\n",
    "\n",
    "        # Create animations\n",
    "        self.play(Create(framebox1))  # creating the frame\n",
    "\n",
    "        self.wait()\n",
    "        # replace frame 1 with frame 2\n",
    "        self.play(ReplacementTransform(framebox1, framebox2))\n",
    "    \n",
    "        self.wait()\n",
    "\n",
    "        "
   ]
  }
 ],
 "metadata": {
  "kernelspec": {
   "display_name": "Python 3 (ipykernel)",
   "language": "python",
   "name": "python3"
  },
  "language_info": {
   "codemirror_mode": {
    "name": "ipython",
    "version": 3
   },
   "file_extension": ".py",
   "mimetype": "text/x-python",
   "name": "python",
   "nbconvert_exporter": "python",
   "pygments_lexer": "ipython3",
   "version": "3.8.15"
  },
  "toc": {
   "base_numbering": 1,
   "nav_menu": {},
   "number_sections": true,
   "sideBar": true,
   "skip_h1_title": false,
   "title_cell": "Table of Contents",
   "title_sidebar": "Contents",
   "toc_cell": false,
   "toc_position": {},
   "toc_section_display": true,
   "toc_window_display": false
  },
  "varInspector": {
   "cols": {
    "lenName": 16,
    "lenType": 16,
    "lenVar": 40
   },
   "kernels_config": {
    "python": {
     "delete_cmd_postfix": "",
     "delete_cmd_prefix": "del ",
     "library": "var_list.py",
     "varRefreshCmd": "print(var_dic_list())"
    },
    "r": {
     "delete_cmd_postfix": ") ",
     "delete_cmd_prefix": "rm(",
     "library": "var_list.r",
     "varRefreshCmd": "cat(var_dic_list()) "
    }
   },
   "types_to_exclude": [
    "module",
    "function",
    "builtin_function_or_method",
    "instance",
    "_Feature"
   ],
   "window_display": false
  },
  "vscode": {
   "interpreter": {
    "hash": "79363e0bffd28a376ed1cfb82045f402f2ff57f4a7ddfd30183975708464315b"
   }
  }
 },
 "nbformat": 4,
 "nbformat_minor": 5
}
