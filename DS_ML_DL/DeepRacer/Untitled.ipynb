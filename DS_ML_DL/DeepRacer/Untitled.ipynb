{
 "cells": [
  {
   "cell_type": "code",
   "execution_count": 1,
   "id": "d3e79fea",
   "metadata": {},
   "outputs": [],
   "source": [
    "import math"
   ]
  },
  {
   "cell_type": "code",
   "execution_count": 4,
   "id": "b03fa4d7",
   "metadata": {},
   "outputs": [],
   "source": [
    "def reward_function(params):\n",
    "    # Example of rewarding the agent to follow center line\n",
    "\n",
    "    # Read input parameters\n",
    "    track_width = params['track_width']\n",
    "    distance_from_center = params['distance_from_center']\n",
    "    all_wheels_on_track = params['all_wheels_on_track']\n",
    "    speed = params['speed']\n",
    "\n",
    "    # Calculate 3 markers that are at varying distances away from the center line\n",
    "    marker_1 = 0.1 * track_width\n",
    "    marker_2 = 0.25 * track_width\n",
    "    marker_3 = 0.5 * track_width\n",
    "\n",
    "    # Give higher reward if the car is closer to center line and vice versa\n",
    "    if distance_from_center <= marker_1:\n",
    "        reward = 0.1\n",
    "    elif distance_from_center <= marker_2:\n",
    "        reward = 1\n",
    "    elif distance_from_center <= marker_3:\n",
    "        reward = 0.5\n",
    "    else:\n",
    "        reward = 1e-3 # likely crashed/ close to off track\n",
    "    abs_steering = abs(params['steering_angle']) # We don't care whether it is left or right steering\n",
    "\n",
    "    # Penalize if car steer too much to prevent zigzag\n",
    "    ABS_STEERING_THRESHOLD = 15.0\n",
    "    \n",
    "\n",
    "\n",
    "    # Set the speed threshold based your action space\n",
    "    SPEED_THRESHOLD = 1.0\n",
    "\n",
    "    if all_wheels_on_track and (0.5*track_width - distance_from_center)>=0.05:\n",
    "        reward *= 1.0\n",
    "\n",
    "\n",
    "    if not all_wheels_on_track:\n",
    "        # Penalize if the car goes off track\n",
    "        reward *= 1e-3\n",
    "    elif speed < SPEED_THRESHOLD:\n",
    "        # Penalize if the car goes too slow\n",
    "        reward *= 0.5\n",
    "    else:\n",
    "        # High reward if the car stays on track and goes fast\n",
    "        reward *= 1.0\n",
    "    \n",
    "    \n",
    "    if abs_steering > ABS_STEERING_THRESHOLD:\n",
    "        reward *= 0.8\n",
    "\n",
    "    return float(reward)"
   ]
  },
  {
   "cell_type": "code",
   "execution_count": null,
   "id": "dd94cf92",
   "metadata": {},
   "outputs": [],
   "source": []
  }
 ],
 "metadata": {
  "kernelspec": {
   "display_name": "Python [conda env:DeepRacer]",
   "language": "python",
   "name": "conda-env-DeepRacer-py"
  },
  "language_info": {
   "codemirror_mode": {
    "name": "ipython",
    "version": 3
   },
   "file_extension": ".py",
   "mimetype": "text/x-python",
   "name": "python",
   "nbconvert_exporter": "python",
   "pygments_lexer": "ipython3",
   "version": "3.9.13"
  }
 },
 "nbformat": 4,
 "nbformat_minor": 5
}
